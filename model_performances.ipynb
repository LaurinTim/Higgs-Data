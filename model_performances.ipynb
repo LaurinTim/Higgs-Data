{
 "cells": [
  {
   "cell_type": "code",
   "execution_count": 1,
   "id": "f3f592bf-b765-4ce1-ad01-7d42f1352869",
   "metadata": {},
   "outputs": [
    {
     "name": "stdout",
     "output_type": "stream",
     "text": [
      "Using device: cuda\n"
     ]
    }
   ],
   "source": [
    "import numpy as np, pandas as pd\n",
    "import torch, copy\n",
    "from torch import nn\n",
    "import os, sys\n",
    "from pathlib import Path\n",
    "import importlib.util\n",
    "import matplotlib.pyplot as plt\n",
    "from sklearn.metrics import roc_auc_score\n",
    "import time\n",
    "import xgboost as xgb\n",
    "from sklearn.ensemble import RandomForestClassifier\n",
    "\n",
    "os.environ['TF_ENABLE_ONEDNN_OPTS'] = '0'\n",
    "os.environ['TF_CPP_MIN_LOG_LEVEL'] = '1' \n",
    "\n",
    "import tensorflow as tf\n",
    "\n",
    "data_dir = 'C:\\\\Users\\\\main\\\\Proton Drive\\\\laurin.koller\\\\My files\\\\ML\\\\kaggle\\\\Higgs-Data'\n",
    "\n",
    "spec = importlib.util.spec_from_file_location(\"utils\", data_dir + '\\\\utils.py')\n",
    "u = importlib.util.module_from_spec(spec)\n",
    "spec.loader.exec_module(u)\n",
    "\n",
    "AUTO = tf.data.experimental.AUTOTUNE\n",
    "\n",
    "SEED = 0\n",
    "torch.manual_seed(SEED)\n",
    "np.random.seed(SEED)\n",
    "tf.random.set_seed(SEED)\n",
    "\n",
    "torch.set_default_device(\"cuda\" if torch.cuda.is_available() else \"cpu\")\n",
    "device = torch.device(\"cuda\" if torch.cuda.is_available() else \"cpu\")\n",
    "print(f\"Using device: {device}\")"
   ]
  },
  {
   "cell_type": "code",
   "execution_count": 75,
   "id": "7723abb9-7731-48a9-a45f-1cdbcaf419db",
   "metadata": {},
   "outputs": [],
   "source": [
    "def accuracy(corr, pred):\n",
    "    return 1 - np.sum(np.abs(corr - pred))/len(corr)"
   ]
  },
  {
   "cell_type": "code",
   "execution_count": 2,
   "id": "e155ddc2-557c-4e22-8ecb-67fb85219b50",
   "metadata": {},
   "outputs": [
    {
     "name": "stdout",
     "output_type": "stream",
     "text": [
      "steps_per_epoch: 5126, validation_steps: 244\n"
     ]
    }
   ],
   "source": [
    "feature_description = {\n",
    "    'features': tf.io.FixedLenFeature([], tf.string),\n",
    "    'label': tf.io.FixedLenFeature([], tf.float32),\n",
    "}\n",
    "decoder = u.make_decoder(feature_description)\n",
    "\n",
    "train_files = tf.io.gfile.glob(data_dir + '\\\\training' + '\\\\*.tfrecord')#[:1]\n",
    "valid_files = tf.io.gfile.glob(data_dir + '\\\\validation' + '\\\\*.tfrecord')#[:1]\n",
    "\n",
    "# Count the number of samples in the train and validation datasets\n",
    "# This takes a long time, so this was run once and it is not manually defined below\n",
    "#training_size = u.count_samples(train_files)\n",
    "#validation_size = u.count_samples(valid_files)\n",
    "\n",
    "training_size = int(1.05e7/24)\n",
    "validation_size = int(5e5/8)\n",
    "training_size = int(1.05e7)\n",
    "validation_size = int(5e5)\n",
    "BATCH_SIZE_PER_REPLICA = 2 ** 11\n",
    "batch_size = BATCH_SIZE_PER_REPLICA\n",
    "steps_per_epoch = training_size // batch_size\n",
    "validation_steps = validation_size // batch_size\n",
    "\n",
    "print(f\"steps_per_epoch: {steps_per_epoch}, validation_steps: {validation_steps}\")"
   ]
  },
  {
   "cell_type": "code",
   "execution_count": 33,
   "id": "bfea9c2c-a38a-457a-8978-b65c52f89a57",
   "metadata": {},
   "outputs": [],
   "source": [
    "ds_valid = u.load_dataset(valid_files, decoder, ordered=True)\n",
    "ds_valid = (\n",
    "    ds_valid\n",
    "    .cache()\n",
    "    .repeat()\n",
    "    .batch(validation_size)\n",
    "    .prefetch(AUTO)\n",
    ")\n",
    "ds_valid_np = ds_valid.as_numpy_iterator()\n",
    "valid_arr = next(iter(ds_valid_np))"
   ]
  },
  {
   "cell_type": "code",
   "execution_count": 58,
   "id": "bef49922-74f0-406e-b678-804b596e33c9",
   "metadata": {},
   "outputs": [],
   "source": [
    "labels = valid_arr[1]\n",
    "\n",
    "dl_data = pd.read_csv(data_dir + '\\\\predictions\\\\DL_prediction.csv').T\n",
    "dl_tensor = torch.tensor(np.array(dl_data))\n",
    "dl_sig = nn.Sigmoid()(dl_tensor)\n",
    "dl_arr_proba = dl_sig.detach().cpu().numpy().reshape(-1,)\n",
    "dl_arr = sample = np.random.default_rng(seed=42).binomial(n=1, p=dl_arr_proba)\n",
    "\n",
    "rfc_data = pd.read_csv(data_dir + '\\\\predictions\\\\RFC_prediction.csv')\n",
    "rfc_arr = np.array(rfc_data)[:,1]\n",
    "\n",
    "xgb_data = pd.read_csv(data_dir + '\\\\predictions\\\\XGB_prediction.csv')\n",
    "xgb_arr = np.array(xgb_data)[:,1]"
   ]
  },
  {
   "cell_type": "code",
   "execution_count": 70,
   "id": "53ce639f-4cbe-4796-937a-f817110c148e",
   "metadata": {},
   "outputs": [
    {
     "data": {
      "text/plain": [
       "np.float64(0.7959355565673046)"
      ]
     },
     "execution_count": 70,
     "metadata": {},
     "output_type": "execute_result"
    }
   ],
   "source": [
    "t = (dl_arr_proba >= 0.5).astype(float)\n",
    "roc_auc_score(labels, t)"
   ]
  },
  {
   "cell_type": "code",
   "execution_count": 65,
   "id": "df7167c8-1bda-45f4-a330-c66ac034ba24",
   "metadata": {},
   "outputs": [
    {
     "data": {
      "text/plain": [
       "np.float64(0.7291774159487313)"
      ]
     },
     "execution_count": 65,
     "metadata": {},
     "output_type": "execute_result"
    }
   ],
   "source": [
    "import random\n",
    "tt = [1 if random.random() < q else 0 for q in dl_arr_proba]\n",
    "roc_auc_score(labels, tt)"
   ]
  },
  {
   "cell_type": "code",
   "execution_count": 69,
   "id": "eb337640-dfc3-45f7-a6ac-b9eb92330b59",
   "metadata": {},
   "outputs": [
    {
     "data": {
      "text/plain": [
       "np.float64(0.8823873740075657)"
      ]
     },
     "execution_count": 69,
     "metadata": {},
     "output_type": "execute_result"
    }
   ],
   "source": [
    "roc_auc_score(labels, dl_tensor.detach().cpu().numpy().reshape(-1,))"
   ]
  },
  {
   "cell_type": "code",
   "execution_count": 59,
   "id": "aba3279a-4768-47aa-b107-86b1aa50e46e",
   "metadata": {},
   "outputs": [
    {
     "data": {
      "text/plain": [
       "np.float64(0.113018)"
      ]
     },
     "execution_count": 59,
     "metadata": {},
     "output_type": "execute_result"
    }
   ],
   "source": [
    "np.sum(np.abs(rfc_arr - xgb_arr)) / len(labels)"
   ]
  },
  {
   "cell_type": "code",
   "execution_count": 60,
   "id": "140ba630-bf0d-443e-8b99-aa9f6b36c18e",
   "metadata": {},
   "outputs": [
    {
     "data": {
      "text/plain": [
       "((500000,), (500000,), (500000,), (500000,))"
      ]
     },
     "execution_count": 60,
     "metadata": {},
     "output_type": "execute_result"
    }
   ],
   "source": [
    "labels.shape, dl_arr.shape, rfc_arr.shape, xgb_arr.shape"
   ]
  },
  {
   "cell_type": "code",
   "execution_count": 61,
   "id": "1adce2a1-8550-4396-b48b-786722e87a9d",
   "metadata": {},
   "outputs": [
    {
     "data": {
      "text/plain": [
       "(np.float64(0.7288125736781524),\n",
       " np.float64(0.7296360664155634),\n",
       " np.float64(0.7481269799971232))"
      ]
     },
     "execution_count": 61,
     "metadata": {},
     "output_type": "execute_result"
    }
   ],
   "source": [
    "roc_auc_score(labels, dl_arr), roc_auc_score(labels, rfc_arr), roc_auc_score(labels, xgb_arr)"
   ]
  },
  {
   "cell_type": "code",
   "execution_count": 76,
   "id": "540488e4-fd0a-40fe-95c7-356e17fa4f84",
   "metadata": {},
   "outputs": [
    {
     "data": {
      "text/plain": [
       "(np.float64(0.729884), np.float64(0.731482), np.float64(0.749708))"
      ]
     },
     "execution_count": 76,
     "metadata": {},
     "output_type": "execute_result"
    }
   ],
   "source": [
    "accuracy(labels, dl_arr), accuracy(labels, rfc_arr), accuracy(labels, xgb_arr)"
   ]
  }
 ],
 "metadata": {
  "kernelspec": {
   "display_name": "Python 3 (ipykernel)",
   "language": "python",
   "name": "python3"
  },
  "language_info": {
   "codemirror_mode": {
    "name": "ipython",
    "version": 3
   },
   "file_extension": ".py",
   "mimetype": "text/x-python",
   "name": "python",
   "nbconvert_exporter": "python",
   "pygments_lexer": "ipython3",
   "version": "3.12.9"
  }
 },
 "nbformat": 4,
 "nbformat_minor": 5
}
