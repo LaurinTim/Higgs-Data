{
 "cells": [
  {
   "cell_type": "code",
   "execution_count": 1,
   "id": "f3f592bf-b765-4ce1-ad01-7d42f1352869",
   "metadata": {},
   "outputs": [
    {
     "name": "stdout",
     "output_type": "stream",
     "text": [
      "Using device: cuda\n"
     ]
    }
   ],
   "source": [
    "import numpy as np, pandas as pd\n",
    "import torch, copy\n",
    "from torch import nn\n",
    "import os, sys\n",
    "from pathlib import Path\n",
    "import importlib.util\n",
    "import matplotlib.pyplot as plt\n",
    "from sklearn.metrics import roc_auc_score\n",
    "import time\n",
    "import xgboost as xgb\n",
    "from sklearn.ensemble import RandomForestClassifier\n",
    "\n",
    "os.environ['TF_ENABLE_ONEDNN_OPTS'] = '0'\n",
    "os.environ['TF_CPP_MIN_LOG_LEVEL'] = '1' \n",
    "\n",
    "import tensorflow as tf\n",
    "\n",
    "data_dir = 'C:\\\\Users\\\\main\\\\Proton Drive\\\\laurin.koller\\\\My files\\\\ML\\\\kaggle\\\\Higgs-Data'\n",
    "\n",
    "spec = importlib.util.spec_from_file_location(\"utils\", data_dir + '\\\\utils.py')\n",
    "u = importlib.util.module_from_spec(spec)\n",
    "spec.loader.exec_module(u)\n",
    "\n",
    "AUTO = tf.data.experimental.AUTOTUNE\n",
    "\n",
    "SEED = 0\n",
    "torch.manual_seed(SEED)\n",
    "np.random.seed(SEED)\n",
    "tf.random.set_seed(SEED)\n",
    "\n",
    "torch.set_default_device(\"cuda\" if torch.cuda.is_available() else \"cpu\")\n",
    "device = torch.device(\"cuda\" if torch.cuda.is_available() else \"cpu\")\n",
    "print(f\"Using device: {device}\")"
   ]
  },
  {
   "cell_type": "code",
   "execution_count": 2,
   "id": "e155ddc2-557c-4e22-8ecb-67fb85219b50",
   "metadata": {},
   "outputs": [
    {
     "name": "stdout",
     "output_type": "stream",
     "text": [
      "steps_per_epoch: 5126, validation_steps: 244\n"
     ]
    }
   ],
   "source": [
    "feature_description = {\n",
    "    'features': tf.io.FixedLenFeature([], tf.string),\n",
    "    'label': tf.io.FixedLenFeature([], tf.float32),\n",
    "}\n",
    "decoder = u.make_decoder(feature_description)\n",
    "\n",
    "train_files = tf.io.gfile.glob(data_dir + '\\\\training' + '\\\\*.tfrecord')#[:1]\n",
    "valid_files = tf.io.gfile.glob(data_dir + '\\\\validation' + '\\\\*.tfrecord')#[:1]\n",
    "\n",
    "# Count the number of samples in the train and validation datasets\n",
    "# This takes a long time, so this was run once and it is not manually defined below\n",
    "#training_size = u.count_samples(train_files)\n",
    "#validation_size = u.count_samples(valid_files)\n",
    "\n",
    "training_size = int(1.05e7/24)\n",
    "validation_size = int(5e5/8)\n",
    "training_size = int(1.05e7)\n",
    "validation_size = int(5e5)\n",
    "BATCH_SIZE_PER_REPLICA = 2 ** 11\n",
    "batch_size = BATCH_SIZE_PER_REPLICA\n",
    "steps_per_epoch = training_size // batch_size\n",
    "validation_steps = validation_size // batch_size\n",
    "\n",
    "print(f\"steps_per_epoch: {steps_per_epoch}, validation_steps: {validation_steps}\")"
   ]
  },
  {
   "cell_type": "code",
   "execution_count": null,
   "id": "bfea9c2c-a38a-457a-8978-b65c52f89a57",
   "metadata": {},
   "outputs": [],
   "source": [
    "ds_valid = u.load_dataset(valid_files, decoder, ordered=True)\n",
    "ds_valid = (\n",
    "    ds_valid\n",
    "    .cache()\n",
    "    .repeat()\n",
    "    .batch(validation_size)\n",
    "    .prefetch(AUTO)\n",
    ")\n",
    "ds_valid_np = ds_valid.as_numpy_iterator()\n",
    "valid_arr = next(iter(ds_valid_np))"
   ]
  },
  {
   "cell_type": "code",
   "execution_count": 31,
   "id": "bef49922-74f0-406e-b678-804b596e33c9",
   "metadata": {},
   "outputs": [],
   "source": [
    "dl_data = pd.read_csv(data_dir + '\\\\predictions\\\\DL_prediction.csv').T\n",
    "dl_tensor = torch.tensor(np.array(dl_data))\n",
    "dl_sig = nn.Sigmoid()(dl_tensor)\n",
    "dl_arr = dl_sig.detach().cpu().numpy()"
   ]
  },
  {
   "cell_type": "code",
   "execution_count": 32,
   "id": "aba3279a-4768-47aa-b107-86b1aa50e46e",
   "metadata": {},
   "outputs": [
    {
     "data": {
      "text/plain": [
       "array([[0.55278306],\n",
       "       [0.41375087],\n",
       "       [0.69259912],\n",
       "       [0.6159232 ],\n",
       "       [0.49372846]])"
      ]
     },
     "execution_count": 32,
     "metadata": {},
     "output_type": "execute_result"
    }
   ],
   "source": [
    "dl_arr[:5]"
   ]
  },
  {
   "cell_type": "code",
   "execution_count": 29,
   "id": "1adce2a1-8550-4396-b48b-786722e87a9d",
   "metadata": {},
   "outputs": [
    {
     "data": {
      "text/plain": [
       "tensor([[0.5528],\n",
       "        [0.4138],\n",
       "        [0.6926],\n",
       "        [0.6159],\n",
       "        [0.4937],\n",
       "        [0.7763],\n",
       "        [0.6323],\n",
       "        [0.0963],\n",
       "        [0.0029],\n",
       "        [0.2521],\n",
       "        [0.1215],\n",
       "        [0.8920],\n",
       "        [0.7817],\n",
       "        [0.8632],\n",
       "        [0.5813],\n",
       "        [0.1002],\n",
       "        [0.0793],\n",
       "        [0.2058],\n",
       "        [0.4431],\n",
       "        [0.3602],\n",
       "        [0.8342],\n",
       "        [0.3641],\n",
       "        [0.8047],\n",
       "        [0.9917],\n",
       "        [0.5092],\n",
       "        [0.1019],\n",
       "        [0.5410],\n",
       "        [0.4893],\n",
       "        [0.0248],\n",
       "        [0.4569],\n",
       "        [0.2673],\n",
       "        [0.1968],\n",
       "        [0.9993],\n",
       "        [0.9891],\n",
       "        [0.6570],\n",
       "        [0.5044],\n",
       "        [0.9754],\n",
       "        [0.5610],\n",
       "        [0.9886],\n",
       "        [0.1821],\n",
       "        [0.0011],\n",
       "        [0.0059],\n",
       "        [0.2739],\n",
       "        [0.0585],\n",
       "        [0.4972],\n",
       "        [0.2289],\n",
       "        [0.5981],\n",
       "        [0.3785],\n",
       "        [0.7770],\n",
       "        [0.3845]], device='cuda:0', dtype=torch.float64)"
      ]
     },
     "execution_count": 29,
     "metadata": {},
     "output_type": "execute_result"
    }
   ],
   "source": [
    "roc_auc_score("
   ]
  }
 ],
 "metadata": {
  "kernelspec": {
   "display_name": "Python 3 (ipykernel)",
   "language": "python",
   "name": "python3"
  },
  "language_info": {
   "codemirror_mode": {
    "name": "ipython",
    "version": 3
   },
   "file_extension": ".py",
   "mimetype": "text/x-python",
   "name": "python",
   "nbconvert_exporter": "python",
   "pygments_lexer": "ipython3",
   "version": "3.12.9"
  }
 },
 "nbformat": 4,
 "nbformat_minor": 5
}
