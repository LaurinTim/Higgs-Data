{
 "cells": [
  {
   "cell_type": "code",
   "execution_count": 1,
   "id": "1adfc94c-2747-42dd-adfa-78708391af83",
   "metadata": {},
   "outputs": [],
   "source": [
    "import numpy as np, pandas as pd\n",
    "import os, sys\n",
    "from pathlib import Path\n",
    "import importlib.util\n",
    "import matplotlib.pyplot as plt\n",
    "from sklearn.metrics import roc_auc_score\n",
    "import time\n",
    "\n",
    "data_dir = os.path.abspath(\"\")\n",
    "\n",
    "spec = importlib.util.spec_from_file_location(\"utils\", data_dir + '\\\\utils.py')\n",
    "u = importlib.util.module_from_spec(spec)\n",
    "spec.loader.exec_module(u)"
   ]
  },
  {
   "cell_type": "code",
   "execution_count": 2,
   "id": "4930583c-0abf-4192-95fe-93b07c60e23e",
   "metadata": {},
   "outputs": [],
   "source": [
    "#HIGGS_train_labels, HIGGS_valid_labels = u.get_HIGGS_labels()\n",
    "SUSY_train_labels, SUSY_valid_labels = u.get_SUSY_labels()"
   ]
  },
  {
   "cell_type": "code",
   "execution_count": 71,
   "id": "6b385eee-3136-4964-a3fd-cfc055a9a2a8",
   "metadata": {},
   "outputs": [
    {
     "name": "stdout",
     "output_type": "stream",
     "text": [
      "10500000 500000\n",
      "4500000 500000\n"
     ]
    }
   ],
   "source": [
    "print(len(HIGGS_train_labels), len(HIGGS_valid_labels))\n",
    "print(len(SUSY_train_labels), len(SUSY_valid_labels))"
   ]
  },
  {
   "cell_type": "code",
   "execution_count": 97,
   "id": "347746cf-10da-47cd-88d9-4d4e70c63246",
   "metadata": {},
   "outputs": [
    {
     "name": "stdout",
     "output_type": "stream",
     "text": [
      "0.877811\n",
      "0.87752\n",
      "0.877681\n"
     ]
    }
   ],
   "source": [
    "t = pd.read_csv(data_dir + \"\\\\SUSY\\\\predictions\\\\XGB_prediction_best.csv\")\n",
    "\n",
    "print(round(roc_auc_score(SUSY_valid_labels, t), 6))"
   ]
  },
  {
   "cell_type": "code",
   "execution_count": 3,
   "id": "488f69b4-e686-469e-859a-e58c06617818",
   "metadata": {},
   "outputs": [
    {
     "name": "stdout",
     "output_type": "stream",
     "text": [
      "0.876292\n",
      "0.876277\n",
      "0.876305\n"
     ]
    }
   ],
   "source": [
    "name = \"\\\\SUSY\\\\predictions\\\\RFC_prediction_best\"\n",
    "t0 = pd.read_csv(data_dir + \"\\\\SUSY\\\\predictions\\\\RFC_prediction.csv\")\n",
    "t1 = pd.read_csv(data_dir + name + \".csv\")\n",
    "t2 = pd.read_csv(data_dir + name + \"1.csv\")\n",
    "\n",
    "print(round(roc_auc_score(SUSY_valid_labels, t0), 6))\n",
    "print(round(roc_auc_score(SUSY_valid_labels, t1), 6))\n",
    "print(round(roc_auc_score(SUSY_valid_labels, t2), 6))"
   ]
  },
  {
   "cell_type": "code",
   "execution_count": 83,
   "id": "f1548df4-6758-407a-afe4-b01f058f0b5f",
   "metadata": {},
   "outputs": [
    {
     "data": {
      "text/plain": [
       "((500000, 1), (1, 500000))"
      ]
     },
     "execution_count": 83,
     "metadata": {},
     "output_type": "execute_result"
    }
   ],
   "source": [
    "t1.shape, t2.shape"
   ]
  },
  {
   "cell_type": "code",
   "execution_count": null,
   "id": "6ec44a5f-40d6-4ceb-89dd-3184d07a6102",
   "metadata": {},
   "outputs": [],
   "source": [
    "print(\"A\")"
   ]
  },
  {
   "cell_type": "code",
   "execution_count": null,
   "id": "344d6411-5a11-4ebc-b14a-0f1568c18679",
   "metadata": {},
   "outputs": [],
   "source": []
  }
 ],
 "metadata": {
  "kernelspec": {
   "display_name": "Python 3 (ipykernel)",
   "language": "python",
   "name": "python3"
  },
  "language_info": {
   "codemirror_mode": {
    "name": "ipython",
    "version": 3
   },
   "file_extension": ".py",
   "mimetype": "text/x-python",
   "name": "python",
   "nbconvert_exporter": "python",
   "pygments_lexer": "ipython3",
   "version": "3.12.9"
  }
 },
 "nbformat": 4,
 "nbformat_minor": 5
}
