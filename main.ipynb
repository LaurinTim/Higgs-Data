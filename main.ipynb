{
 "cells": [
  {
   "cell_type": "code",
   "execution_count": 11,
   "id": "1adfc94c-2747-42dd-adfa-78708391af83",
   "metadata": {},
   "outputs": [],
   "source": [
    "import numpy as np, pandas as pd\n",
    "import os, sys\n",
    "from pathlib import Path\n",
    "import importlib.util\n",
    "import matplotlib.pyplot as plt\n",
    "from sklearn.metrics import roc_auc_score\n",
    "import time\n",
    "\n",
    "data_dir = os.path.abspath(\"\")\n",
    "\n",
    "spec = importlib.util.spec_from_file_location(\"utils\", data_dir + '\\\\utils.py')\n",
    "u = importlib.util.module_from_spec(spec)\n",
    "spec.loader.exec_module(u)"
   ]
  },
  {
   "cell_type": "code",
   "execution_count": null,
   "id": "22b80716-afd3-4547-8037-83a47cd6663c",
   "metadata": {},
   "outputs": [],
   "source": [
    "HIGGS_"
   ]
  }
 ],
 "metadata": {
  "kernelspec": {
   "display_name": "Python 3 (ipykernel)",
   "language": "python",
   "name": "python3"
  },
  "language_info": {
   "codemirror_mode": {
    "name": "ipython",
    "version": 3
   },
   "file_extension": ".py",
   "mimetype": "text/x-python",
   "name": "python",
   "nbconvert_exporter": "python",
   "pygments_lexer": "ipython3",
   "version": "3.12.9"
  }
 },
 "nbformat": 4,
 "nbformat_minor": 5
}
